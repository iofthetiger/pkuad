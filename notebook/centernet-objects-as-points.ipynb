{
 "cells": [
  {
   "cell_type": "markdown",
   "metadata": {},
   "source": [
    "If you think it's useful, give me an upvote, thanks."
   ]
  },
  {
   "cell_type": "markdown",
   "metadata": {},
   "source": [
    "CenterNet Paper : https://arxiv.org/pdf/1904.07850.pdf\n",
    "\n",
    "Author repo : https://github.com/xingyizhou/CenterNet\n",
    "\n",
    "Keras repo : https://github.com/see--/keras-centernet"
   ]
  },
  {
   "cell_type": "code",
   "execution_count": 1,
   "metadata": {
    "_cell_guid": "b1076dfc-b9ad-4769-8c92-a6c4dae69d19",
    "_kg_hide-input": true,
    "_kg_hide-output": true,
    "_uuid": "8f2839f25d086af736a60e9eeb907d3b93b6e0e5"
   },
   "outputs": [
    {
     "name": "stderr",
     "output_type": "stream",
     "text": [
      "Using TensorFlow backend.\n",
      "/home/hy/anaconda3/envs/badeda-tf/lib/python3.6/site-packages/tensorflow/python/framework/dtypes.py:523: FutureWarning: Passing (type, 1) or '1type' as a synonym of type is deprecated; in a future version of numpy, it will be understood as (type, (1,)) / '(1,)type'.\n",
      "  _np_qint8 = np.dtype([(\"qint8\", np.int8, 1)])\n",
      "/home/hy/anaconda3/envs/badeda-tf/lib/python3.6/site-packages/tensorflow/python/framework/dtypes.py:524: FutureWarning: Passing (type, 1) or '1type' as a synonym of type is deprecated; in a future version of numpy, it will be understood as (type, (1,)) / '(1,)type'.\n",
      "  _np_quint8 = np.dtype([(\"quint8\", np.uint8, 1)])\n",
      "/home/hy/anaconda3/envs/badeda-tf/lib/python3.6/site-packages/tensorflow/python/framework/dtypes.py:525: FutureWarning: Passing (type, 1) or '1type' as a synonym of type is deprecated; in a future version of numpy, it will be understood as (type, (1,)) / '(1,)type'.\n",
      "  _np_qint16 = np.dtype([(\"qint16\", np.int16, 1)])\n",
      "/home/hy/anaconda3/envs/badeda-tf/lib/python3.6/site-packages/tensorflow/python/framework/dtypes.py:526: FutureWarning: Passing (type, 1) or '1type' as a synonym of type is deprecated; in a future version of numpy, it will be understood as (type, (1,)) / '(1,)type'.\n",
      "  _np_quint16 = np.dtype([(\"quint16\", np.uint16, 1)])\n",
      "/home/hy/anaconda3/envs/badeda-tf/lib/python3.6/site-packages/tensorflow/python/framework/dtypes.py:527: FutureWarning: Passing (type, 1) or '1type' as a synonym of type is deprecated; in a future version of numpy, it will be understood as (type, (1,)) / '(1,)type'.\n",
      "  _np_qint32 = np.dtype([(\"qint32\", np.int32, 1)])\n",
      "/home/hy/anaconda3/envs/badeda-tf/lib/python3.6/site-packages/tensorflow/python/framework/dtypes.py:532: FutureWarning: Passing (type, 1) or '1type' as a synonym of type is deprecated; in a future version of numpy, it will be understood as (type, (1,)) / '(1,)type'.\n",
      "  np_resource = np.dtype([(\"resource\", np.ubyte, 1)])\n"
     ]
    }
   ],
   "source": [
    "import numpy as np\n",
    "import pandas as pd\n",
    "import cv2\n",
    "from tqdm import tqdm\n",
    "from glob import glob\n",
    "from math import floor\n",
    "from PIL import ImageFont, ImageDraw, Image\n",
    "import matplotlib.pyplot as plt\n",
    "\n",
    "from sklearn.model_selection import train_test_split\n",
    "from sklearn.linear_model import LinearRegression\n",
    "from sklearn.metrics import mean_absolute_error, mean_squared_error\n",
    "\n",
    "import keras\n",
    "from keras.layers import Dense, Activation, Input, Conv2D, BatchNormalization, Add, UpSampling2D, ZeroPadding2D, Lambda\n",
    "from keras.models import Sequential, Model\n",
    "from keras.preprocessing import image\n",
    "from keras.preprocessing.image import ImageDataGenerator\n",
    "from keras.utils import get_file\n",
    "from keras.optimizers import Adam\n",
    "import keras.backend as K\n",
    "import tensorflow as tf\n",
    "import gc\n",
    "import os\n",
    "\n",
    "PATH = '/home/hy/pkuad/'\n",
    "os.listdir(PATH)\n",
    "\n",
    "import warnings\n",
    "warnings.filterwarnings(\"ignore\")"
   ]
  },
  {
   "cell_type": "code",
   "execution_count": 2,
   "metadata": {
    "_kg_hide-input": true
   },
   "outputs": [],
   "source": [
    "train = pd.read_csv('/home/hy/pkuad/train.csv')\n",
    "test = pd.read_csv('/home/hy/pkuad/sample_submission.csv')"
   ]
  },
  {
   "cell_type": "markdown",
   "metadata": {},
   "source": [
    "# I - Main"
   ]
  },
  {
   "cell_type": "code",
   "execution_count": 3,
   "metadata": {},
   "outputs": [],
   "source": [
    "# def main():\n",
    "#     # 1. set heads of HourglassNet\n",
    "#     kwargs = {\n",
    "#             'num_stacks': 2,\n",
    "#             'cnv_dim': 256,\n",
    "#             'inres': (512, 512),\n",
    "#             }\n",
    "#     heads = {\n",
    "#             'car_pose': 6,\n",
    "#             'confidence': 1\n",
    "#             }\n",
    "    \n",
    "#     # 2. create model\n",
    "#     model = HourglassNetwork(heads=heads, **kwargs)\n",
    "#     model.load_weights('../input/centernet-objects-as-points/centernet_weights.hdf5', by_name=True)\n",
    "    \n",
    "#     # 3. train\n",
    "#     train_model(model, epoch=3, batch_size=8)\n",
    "    \n",
    "#     # 4.predict\n",
    "#     predict(model)"
   ]
  },
  {
   "cell_type": "markdown",
   "metadata": {},
   "source": [
    "# II - Preprocessing\n"
   ]
  },
  {
   "cell_type": "markdown",
   "metadata": {},
   "source": [
    "## 1. mutual conversion from strings to coordinates"
   ]
  },
  {
   "cell_type": "code",
   "execution_count": 4,
   "metadata": {},
   "outputs": [],
   "source": [
    "def str_to_coords(s, names=['id', 'yaw', 'pitch', 'roll', 'x', 'y', 'z']):\n",
    "    coords = []\n",
    "    for l in np.array(s.split()).reshape([-1, 7]):\n",
    "        coords.append(dict(zip(names, l.astype('float'))))\n",
    "        if 'id' in coords[-1]:\n",
    "            coords[-1]['id'] = int(coords[-1]['id'])\n",
    "    return coords\n",
    "\n",
    "def coords_to_str(coords):\n",
    "    s = []\n",
    "    for c in coords:\n",
    "        for n in range(7):\n",
    "            s.append(str(c[n]))\n",
    "    return ' '.join(s)"
   ]
  },
  {
   "cell_type": "markdown",
   "metadata": {},
   "source": [
    "## 2. convert world coordinates to pixel coordinates"
   ]
  },
  {
   "cell_type": "code",
   "execution_count": 5,
   "metadata": {},
   "outputs": [],
   "source": [
    "camera_matrix = np.array([[2304.5479, 0,  1686.2379],\n",
    "                          [0, 2305.8757, 1354.9849],\n",
    "                          [0, 0, 1]], dtype=np.float32)\n",
    "\n",
    "def pixel_coords(s):\n",
    "    coords = str_to_coords(s)\n",
    "    xc = [c['x'] for c in coords]\n",
    "    yc = [c['y'] for c in coords]\n",
    "    zc = [c['z'] for c in coords]\n",
    "    P = np.array(list(zip(xc, yc, zc))).T\n",
    "    img_p = np.dot(camera_matrix, P).T\n",
    "    img_p[:, 0] /= img_p[:, 2]\n",
    "    img_p[:, 1] /= img_p[:, 2]\n",
    "    u = img_p[:, 0]\n",
    "    v = img_p[:, 1]\n",
    "    zc = img_p[:, 2]\n",
    "    return u, v"
   ]
  },
  {
   "cell_type": "markdown",
   "metadata": {},
   "source": [
    "## 3. resize image\n",
    "> Input of CenterNet: 512 x 512 x 3 (W, H, 3)"
   ]
  },
  {
   "cell_type": "code",
   "execution_count": 6,
   "metadata": {},
   "outputs": [],
   "source": [
    "#def resize_image(img, input_width = 512, input_height = 512):\n",
    "def resize_image(img, input_width = 2049, input_height = 683):\n",
    "    img = cv2.resize(img, (input_width, input_height))\n",
    "    return (img / 255).astype('float32')"
   ]
  },
  {
   "cell_type": "markdown",
   "metadata": {},
   "source": [
    "## 4. create mask images"
   ]
  },
  {
   "cell_type": "code",
   "execution_count": 7,
   "metadata": {},
   "outputs": [],
   "source": [
    "def CreateMaskImages(imageName):\n",
    "\n",
    "    trainimage = cv2.imread(PATH  + \"/train_images/\" + imageName + '.jpg')\n",
    "    imagemask = cv2.imread(PATH + \"/train_masks/\" + imageName + \".jpg\",0)\n",
    "    try:\n",
    "        imagemaskinv = cv2.bitwise_not(imagemask)\n",
    "        res = cv2.bitwise_and(trainimage,trainimage,mask = imagemaskinv)\n",
    "        \n",
    "        # cut upper half,because it doesn't contain cars.\n",
    "        res = res[res.shape[0] // 2:]\n",
    "        return res\n",
    "    except:\n",
    "        trainimage = trainimage[trainimage.shape[0] // 2:]\n",
    "        return trainimage"
   ]
  },
  {
   "cell_type": "markdown",
   "metadata": {},
   "source": [
    "## 5. Heatmap of center points: 128 x 128 x 1\n",
    "> Output of CenterNet: (W/R, H/R, C) - here, R = 4, Classification C = 1. \n",
    ">\n",
    ">(Center points with gaussian distributions is necessary to reduce the training loss when the model detect the points near the exact center.)"
   ]
  },
  {
   "cell_type": "code",
   "execution_count": 8,
   "metadata": {},
   "outputs": [],
   "source": [
    "def heatmap(u, v, output_width=128, output_height=128, sigma=1):\n",
    "    def get_heatmap(p_x, p_y):\n",
    "        X1 = np.linspace(1, output_width, output_width)\n",
    "        Y1 = np.linspace(1, output_height, output_height)\n",
    "        [X, Y] = np.meshgrid(X1, Y1)\n",
    "        X = X - floor(p_x)\n",
    "        Y = Y - floor(p_y)\n",
    "        D2 = X * X + Y * Y\n",
    "        E2 = 2.0 * sigma ** 2\n",
    "        Exponent = D2 / E2\n",
    "        heatmap = np.exp(-Exponent)\n",
    "        heatmap = heatmap[:, :, np.newaxis]\n",
    "        return heatmap\n",
    "    \n",
    "    output = np.zeros((128,128,1))\n",
    "    for i in range(len(u)):\n",
    "        heatmap = get_heatmap(u[i], v[i])\n",
    "        output[:,:] = np.maximum(output[:,:],heatmap[:,:])\n",
    "      \n",
    "    return output"
   ]
  },
  {
   "cell_type": "markdown",
   "metadata": {},
   "source": [
    "## 6. Regression (yaw, pitch, roll, x, y, z) of the object pose: 128 x 128 x 6\n",
    "Regressing rotation directly is not a good choice, I may try this way later.\n",
    "\n",
    "https://www.kaggle.com/diegojohnson/a-way-to-regress-translation-and-rotation\n",
    "\n",
    "The CenterNet paper use this method:\n",
    "\n",
    "https://www.kaggle.com/diegojohnson/a-better-way-to-regress-yaw"
   ]
  },
  {
   "cell_type": "code",
   "execution_count": 9,
   "metadata": {},
   "outputs": [],
   "source": [
    "def pose(s, u, v):\n",
    "    regr = np.zeros([128, 128, 6], dtype='float32')\n",
    "    coords = str_to_coords(s)\n",
    "    for p_x, p_y, regr_dict in zip(u, v, coords):\n",
    "        if p_x >= 0 and p_x < 128 and p_y >= 0 and p_y < 128:\n",
    "            regr_dict.pop('id')\n",
    "            regr[floor(p_y), floor(p_x)] = [regr_dict[n] for n in regr_dict]\n",
    "            \n",
    "    # x,y,z devide by 100\n",
    "    regr[:,:,-3:] /= 100  \n",
    "    return regr"
   ]
  },
  {
   "cell_type": "markdown",
   "metadata": {},
   "source": [
    "## 7. Example"
   ]
  },
  {
   "cell_type": "code",
   "execution_count": 10,
   "metadata": {
    "_kg_hide-input": true,
    "_kg_hide-output": false
   },
   "outputs": [],
   "source": [
    "def example(i):\n",
    "    fig, axes = plt.subplots(2, 4,figsize=(20,20))\n",
    "    plt.subplots_adjust(top=0.5)\n",
    "\n",
    "    img0 = CreateMaskImages(train['ImageId'][i])\n",
    "    img1 = resize_image(img0)\n",
    "    axes[0, 0].set_title('Mask Image as Input')\n",
    "    axes[0, 0].imshow(img1)\n",
    "\n",
    "    # Image height: img.shape[0] and v         Image width: img.shape[1] and u\n",
    "    u, v = pixel_coords(train['PredictionString'][i])\n",
    "    u = u * 128 / img0.shape[1]\n",
    "    v = (v - img0.shape[0]) * 128 / img0.shape[0]\n",
    "    hm = np.squeeze(heatmap(u,v))\n",
    "    axes[0, 1].set_title('Heatmap of Center Points as Output')\n",
    "    axes[0, 1].imshow(hm)\n",
    "\n",
    "    regr = pose(train['PredictionString'][i], u,v)\n",
    "    axes[0, 2].set_title('Yaw - Ground Truth')\n",
    "    axes[0, 2].imshow(regr[..., 0])\n",
    "\n",
    "    axes[0, 3].set_title('Pitch - Ground Truth')\n",
    "    axes[0, 3].imshow(regr[..., 1])\n",
    "\n",
    "    axes[1, 0].set_title('Roll - Ground Truth')\n",
    "    axes[1, 0].imshow(regr[..., 2])\n",
    "\n",
    "    axes[1, 1].set_title('X - Ground Truth')\n",
    "    axes[1, 1].imshow(regr[..., 3])\n",
    "\n",
    "    axes[1, 2].set_title('Y - Ground Truth')\n",
    "    axes[1, 2].imshow(regr[..., 4])\n",
    "\n",
    "    axes[1, 3].set_title('Z - Ground Truth')\n",
    "    axes[1, 3].imshow(regr[..., 5])"
   ]
  },
  {
   "cell_type": "code",
   "execution_count": 11,
   "metadata": {},
   "outputs": [
    {
     "data": {
      "image/png": "[encoded data removed]",
      "text/plain": [
       "<Figure size 1440x1440 with 8 Axes>"
      ]
     },
     "metadata": {
      "needs_background": "light"
     },
     "output_type": "display_data"
    }
   ],
   "source": [
    "# show example of preprocessed datas, you can input any number you want (<4000)\n",
    "example(8)"
   ]
  },
  {
   "cell_type": "markdown",
   "metadata": {},
   "source": [
    "## 6. Data Generator"
   ]
  },
  {
   "cell_type": "code",
   "execution_count": 12,
   "metadata": {},
   "outputs": [],
   "source": [
    "def train_generator(train, batch_size=3):\n",
    "    count=0\n",
    "    X = []\n",
    "    y1 = []\n",
    "    y2 = []\n",
    "    while True:\n",
    "        for i in range(len(train)):\n",
    "            img0 = CreateMaskImages(train['ImageId'][i])\n",
    "            img1 = resize_image(img0)\n",
    "            X.append(img1)\n",
    "            \n",
    "            u, v = pixel_coords(train['PredictionString'][i])\n",
    "            u = u * 128 / img0.shape[1]\n",
    "            v = (v - img0.shape[0]) * 128 / img0.shape[0]\n",
    "            hm = heatmap(u,v)\n",
    "            y2.append(hm)\n",
    "\n",
    "            p = pose(train['PredictionString'][i], u, v)\n",
    "            y1.append(p)\n",
    "\n",
    "            count+=1\n",
    "            if count == batch_size:\n",
    "                X_batch = np.array(X, dtype=np.float32)\n",
    "                y1_batch = np.array(y1, dtype=np.float32)\n",
    "                y2_batch = np.array(y2, dtype=np.float32)\n",
    "                \n",
    "                del X, y1, y2\n",
    "                gc.collect()\n",
    "                \n",
    "                count = 0\n",
    "                X = []\n",
    "                y1 = []\n",
    "                y2 = []\n",
    "                \n",
    "                yield(X_batch, {'car_pose.1.1': y1_batch, 'confidence.1.1': y2_batch})"
   ]
  },
  {
   "cell_type": "markdown",
   "metadata": {},
   "source": [
    "# III - Model"
   ]
  },
  {
   "cell_type": "markdown",
   "metadata": {},
   "source": [
    "## 1. backbone - HourglassNet\n",
    "\n",
    "from https://blog.csdn.net/caikw62/article/details/95673125\n",
    "![HourglassNet](https://img-blog.csdnimg.cn/20190716171510379.jpg?x-oss-process=image/watermark,type_ZmFuZ3poZW5naGVpdGk,shadow_10,text_aHR0cHM6Ly9ibG9nLmNzZG4ubmV0L2NhaWt3NjI=,size_16,color_FFFFFF,t_70)"
   ]
  },
  {
   "cell_type": "code",
   "execution_count": 13,
   "metadata": {},
   "outputs": [],
   "source": [
    "def HourglassNetwork(heads, num_stacks, cnv_dim=256, inres=(512, 512), weights=False,\n",
    "                     dims=[256, 384, 384, 384, 512]):\n",
    "    \"\"\"Instantiates the Hourglass architecture.\n",
    "    Optionally loads weights pre-trained on COCO.\n",
    "    Note that the data format convention used by the model is\n",
    "    the one specified in your Keras config at `~/.keras/keras.json`.\n",
    "    # Arguments\n",
    "      num_stacks: number of hourglass modules.\n",
    "      cnv_dim: number of filters after the resolution is decreased.\n",
    "      inres: network input shape, should be a multiple of 128.\n",
    "      weights: one of `None` (random initialization),\n",
    "            'ctdet_coco' (pre-training on COCO for 2D object detection),\n",
    "            'hpdet_coco' (pre-training on COCO for human pose detection),\n",
    "            or the path to the weights file to be loaded.\n",
    "      dims: numbers of channels in the hourglass blocks.\n",
    "    # Returns\n",
    "      A Keras model instance.\n",
    "    # Raises\n",
    "      ValueError: in case of invalid argument for `weights`,\n",
    "          or invalid input shape.\n",
    "    \"\"\"\n",
    "    \n",
    "    input_layer = Input(shape=(inres[0], inres[1], 3), name='HGInput')\n",
    "    inter = pre(input_layer, cnv_dim)\n",
    "    prev_inter = None\n",
    "    outputs = []\n",
    "    for i in range(num_stacks):\n",
    "        prev_inter = inter\n",
    "        _heads, inter = hourglass_module(heads, inter, cnv_dim, i, dims)\n",
    "        if i == 1:\n",
    "            outputs.extend(_heads)\n",
    "        if i < num_stacks - 1:\n",
    "            inter_ = Conv2D(cnv_dim, 1, use_bias=False, name='inter_.%d.0' % i)(prev_inter)\n",
    "            inter_ = BatchNormalization(epsilon=1e-5, name='inter_.%d.1' % i)(inter_)\n",
    "\n",
    "            cnv_ = Conv2D(cnv_dim, 1, use_bias=False, name='cnv_.%d.0' % i)(inter)\n",
    "            cnv_ = BatchNormalization(epsilon=1e-5, name='cnv_.%d.1' % i)(cnv_)\n",
    "\n",
    "            inter = Add(name='inters.%d.inters.add' % i)([inter_, cnv_])\n",
    "            inter = Activation('relu', name='inters.%d.inters.relu' % i)(inter)\n",
    "            inter = residual(inter, cnv_dim, 'inters.%d' % i)\n",
    "\n",
    "    model = Model(inputs=input_layer, outputs=outputs)\n",
    "\n",
    "    # load weights\n",
    "    if weights:\n",
    "        weights_path = get_file('HourglassNet.hdf5',\n",
    "                          'https://github.com/see--/keras-centernet/releases/download/0.1.0/ctdet_coco_hg.hdf5',\n",
    "                          cache_subdir='hourglassnet', \n",
    "                          file_hash='ce01e92f75b533e3ff8e396c76d55d97ff3ec27e99b1bdac1d7b0d6dcf5d90eb')\n",
    "        model.load_weights(weights_path, by_name=True)\n",
    "\n",
    "    return model"
   ]
  },
  {
   "cell_type": "code",
   "execution_count": 14,
   "metadata": {},
   "outputs": [],
   "source": [
    "def hourglass_module(heads, bottom, cnv_dim, hgid, dims):\n",
    "    # create left features , f1, f2, f4, f8, f16 and f32\n",
    "    lfs = left_features(bottom, hgid, dims)\n",
    "\n",
    "    # create right features, connect with left features\n",
    "    rf1 = right_features(lfs, hgid, dims)\n",
    "    rf1 = convolution(rf1, 3, cnv_dim, name='cnvs.%d' % hgid)\n",
    "\n",
    "    # add 1x1 conv with two heads, inter is sent to next stage\n",
    "    # head_parts is used for intermediate supervision\n",
    "    heads = create_heads(heads, rf1, hgid)\n",
    "    return heads, rf1"
   ]
  },
  {
   "cell_type": "markdown",
   "metadata": {},
   "source": [
    "![convolution](https://img-blog.csdnimg.cn/20190716171120608.jpg?x-oss-process=image/watermark,type_ZmFuZ3poZW5naGVpdGk,shadow_10,text_aHR0cHM6Ly9ibG9nLmNzZG4ubmV0L2NhaWt3NjI=,size_16,color_FFFFFF,t_70)"
   ]
  },
  {
   "cell_type": "code",
   "execution_count": 15,
   "metadata": {},
   "outputs": [],
   "source": [
    "def convolution(_x, k, out_dim, name, stride=1):\n",
    "    padding = (k - 1) // 2\n",
    "    _x = ZeroPadding2D(padding=padding, name=name + '.pad')(_x)\n",
    "    _x = Conv2D(out_dim, k, strides=stride, use_bias=False, name=name + '.conv')(_x)\n",
    "    _x = BatchNormalization(epsilon=1e-5, name=name + '.bn')(_x)\n",
    "    _x = Activation('relu', name=name + '.relu')(_x)\n",
    "    return _x"
   ]
  },
  {
   "cell_type": "markdown",
   "metadata": {},
   "source": [
    "![residual](https://img-blog.csdnimg.cn/20190716171157803.jpg?x-oss-process=image/watermark,type_ZmFuZ3poZW5naGVpdGk,shadow_10,text_aHR0cHM6Ly9ibG9nLmNzZG4ubmV0L2NhaWt3NjI=,size_16,color_FFFFFF,t_70)"
   ]
  },
  {
   "cell_type": "code",
   "execution_count": 16,
   "metadata": {},
   "outputs": [],
   "source": [
    "def residual(_x, out_dim, name, stride=1):\n",
    "    shortcut = _x\n",
    "    num_channels = K.int_shape(shortcut)[-1]\n",
    "    _x = ZeroPadding2D(padding=1, name=name + '.pad1')(_x)\n",
    "    _x = Conv2D(out_dim, 3, strides=stride, use_bias=False, name=name + '.conv1')(_x)\n",
    "    _x = BatchNormalization(epsilon=1e-5, name=name + '.bn1')(_x)\n",
    "    _x = Activation('relu', name=name + '.relu1')(_x)\n",
    "\n",
    "    _x = Conv2D(out_dim, 3, padding='same', use_bias=False, name=name + '.conv2')(_x)\n",
    "    _x = BatchNormalization(epsilon=1e-5, name=name + '.bn2')(_x)\n",
    "\n",
    "    if num_channels != out_dim or stride != 1:\n",
    "        shortcut = Conv2D(out_dim, 1, strides=stride, use_bias=False, name=name + '.shortcut.0')(\n",
    "            shortcut)\n",
    "        shortcut = BatchNormalization(epsilon=1e-5, name=name + '.shortcut.1')(shortcut)\n",
    "\n",
    "    _x = Add(name=name + '.add')([_x, shortcut])\n",
    "    _x = Activation('relu', name=name + '.relu')(_x)\n",
    "    return _x"
   ]
  },
  {
   "cell_type": "markdown",
   "metadata": {},
   "source": [
    "![pre](https://img-blog.csdnimg.cn/20190716170729501.jpg)"
   ]
  },
  {
   "cell_type": "code",
   "execution_count": 17,
   "metadata": {},
   "outputs": [],
   "source": [
    "def pre(_x, num_channels):\n",
    "    # front module, input to 1/4 resolution\n",
    "    _x = convolution(_x, 7, 128, name='pre.0', stride=2)\n",
    "    _x = residual(_x, num_channels, name='pre.1', stride=2)\n",
    "    return _x"
   ]
  },
  {
   "cell_type": "code",
   "execution_count": 18,
   "metadata": {},
   "outputs": [],
   "source": [
    "def left_features(bottom, hgid, dims):\n",
    "    # create left half blocks for hourglass module\n",
    "    # f1, f2, f4 , f8, f16, f32 : 1, 1/2, 1/4 1/8, 1/16, 1/32 resolution\n",
    "    # 5 times reduce/increase: (256, 384, 384, 384, 512)\n",
    "    features = [bottom]\n",
    "    for kk, nh in enumerate(dims):\n",
    "        pow_str = ''\n",
    "        for _ in range(kk):\n",
    "            pow_str += '.center'\n",
    "        _x = residual(features[-1], nh, name='kps.%d%s.down.0' % (hgid, pow_str), stride=2)\n",
    "        _x = residual(_x, nh, name='kps.%d%s.down.1' % (hgid, pow_str))\n",
    "        features.append(_x)\n",
    "    return features"
   ]
  },
  {
   "cell_type": "code",
   "execution_count": 19,
   "metadata": {},
   "outputs": [],
   "source": [
    "def connect_left_right(left, right, num_channels, num_channels_next, name):\n",
    "    # left: 2 residual modules\n",
    "    left = residual(left, num_channels_next, name=name + 'skip.0')\n",
    "    left = residual(left, num_channels_next, name=name + 'skip.1')\n",
    "\n",
    "    # up: 2 times residual & nearest neighbour\n",
    "    out = residual(right, num_channels, name=name + 'out.0')\n",
    "    out = residual(out, num_channels_next, name=name + 'out.1')\n",
    "    out = UpSampling2D(name=name + 'out.upsampleNN')(out)\n",
    "    out = Add(name=name + 'out.add')([left, out])\n",
    "    return out"
   ]
  },
  {
   "cell_type": "code",
   "execution_count": 20,
   "metadata": {},
   "outputs": [],
   "source": [
    "def bottleneck_layer(_x, num_channels, hgid):\n",
    "    # 4 residual blocks with 512 channels in the middle\n",
    "    pow_str = 'center.' * 5\n",
    "    _x = residual(_x, num_channels, name='kps.%d.%s0' % (hgid, pow_str))\n",
    "    _x = residual(_x, num_channels, name='kps.%d.%s1' % (hgid, pow_str))\n",
    "    _x = residual(_x, num_channels, name='kps.%d.%s2' % (hgid, pow_str))\n",
    "    _x = residual(_x, num_channels, name='kps.%d.%s3' % (hgid, pow_str))\n",
    "    return _x"
   ]
  },
  {
   "cell_type": "code",
   "execution_count": 21,
   "metadata": {},
   "outputs": [],
   "source": [
    "def right_features(leftfeatures, hgid, dims):\n",
    "    rf = bottleneck_layer(leftfeatures[-1], dims[-1], hgid)\n",
    "    for kk in reversed(range(len(dims))):\n",
    "        pow_str = ''\n",
    "        for _ in range(kk):\n",
    "            pow_str += 'center.'\n",
    "        rf = connect_left_right(leftfeatures[kk], rf, dims[kk], dims[max(kk - 1, 0)], name='kps.%d.%s' % (hgid, pow_str))\n",
    "    return rf"
   ]
  },
  {
   "cell_type": "code",
   "execution_count": 22,
   "metadata": {},
   "outputs": [],
   "source": [
    "def create_heads(heads, rf1, hgid):\n",
    "    _heads = []\n",
    "    for head in sorted(heads):\n",
    "        num_channels = heads[head]\n",
    "        _x = Conv2D(256, 3, use_bias=True, padding='same', name=head + '.%d.0.conv' % hgid)(rf1)\n",
    "        _x = Activation('relu', name=head + '.%d.0.relu' % hgid)(_x)\n",
    "        if head == 'confidence':\n",
    "            _x = Conv2D(num_channels, 1, activation='sigmoid', use_bias=True, name=head + '.%d.1' % hgid)(_x)\n",
    "        else:\n",
    "            _x = Conv2D(num_channels, 1, use_bias=True, name=head + '.%d.1' % hgid)(_x)\n",
    "        _heads.append(_x)\n",
    "    return _heads"
   ]
  },
  {
   "cell_type": "markdown",
   "metadata": {},
   "source": [
    "## 2. Decode"
   ]
  },
  {
   "cell_type": "code",
   "execution_count": 23,
   "metadata": {},
   "outputs": [],
   "source": [
    "# use maxpooling as nms\n",
    "def _nms(heat, kernel=3):\n",
    "    hmax = K.pool2d(heat, (kernel, kernel), padding='same', pool_mode='max')\n",
    "    keep = K.cast(K.equal(hmax, heat), K.floatx())\n",
    "    return heat * keep"
   ]
  },
  {
   "cell_type": "code",
   "execution_count": 24,
   "metadata": {},
   "outputs": [],
   "source": [
    "def _ctdet_decode(hm, reg, k=100, output_stride=4):\n",
    "    hm = _nms(hm)\n",
    "    hm_shape = K.shape(hm)\n",
    "    reg_shape = K.shape(reg)\n",
    "    batch, width, cat = hm_shape[0], hm_shape[2], hm_shape[3]\n",
    "\n",
    "    hm_flat = K.reshape(hm, (batch, -1))\n",
    "    reg_flat = K.reshape(reg, (reg_shape[0], -1, reg_shape[-1]))\n",
    "    \n",
    "    def _process_sample(args):\n",
    "        _hm, _reg = args\n",
    "        _scores, _inds = tf.nn.top_k(_hm, k=k, sorted=True)\n",
    "        _inds = K.cast(_inds / cat, 'int32')\n",
    "        _reg = K.gather(_reg, _inds)\n",
    "        \n",
    "        # get yaw, pitch, roll, x, y, z from regression\n",
    "        yaw =  _reg[..., 0]\n",
    "        pitch =  _reg[..., 1]\n",
    "        roll =  _reg[..., 2]\n",
    "        x =  _reg[..., 3] * 100\n",
    "        y =  _reg[..., 4] * 100\n",
    "        z =  _reg[..., 5] * 100\n",
    "\n",
    "        _detection = K.stack([yaw, pitch, roll, x, y, z, _scores], -1)\n",
    "        return _detection\n",
    "    \n",
    "    detections = K.map_fn(_process_sample, [hm_flat, reg_flat], dtype=K.floatx())\n",
    "    return detections"
   ]
  },
  {
   "cell_type": "code",
   "execution_count": 25,
   "metadata": {},
   "outputs": [],
   "source": [
    "def CtDetDecode(model, hm_index=1, reg_index=0, k=100, output_stride=4):\n",
    "    def _decode(args):\n",
    "        hm, reg = args\n",
    "        return _ctdet_decode(hm, reg, k=k, output_stride=output_stride)\n",
    "    output = Lambda(_decode)([model.outputs[i] for i in [hm_index, reg_index]])\n",
    "    model = Model(model.input, output)\n",
    "    return model"
   ]
  },
  {
   "cell_type": "markdown",
   "metadata": {},
   "source": [
    "# IV - Train"
   ]
  },
  {
   "cell_type": "code",
   "execution_count": 26,
   "metadata": {
    "_kg_hide-input": false
   },
   "outputs": [],
   "source": [
    "def train_model(model,epoch, batch_size = 4):\n",
    "    # 1. choose the layers you want to train\n",
    "    n = 0\n",
    "    for layer in model.layers:\n",
    "        layer.trainable = False\n",
    "\n",
    "        n += 1\n",
    "        if n == 500:\n",
    "            break\n",
    "    \n",
    "    # 2. define loss function\n",
    "    def focal_loss(hm_true, hm_pred):\n",
    "        pos_mask = tf.cast(tf.equal(hm_true, 1), tf.float32)\n",
    "        neg_mask = tf.cast(tf.less(hm_true, 1), tf.float32)\n",
    "        neg_weights = tf.pow(1 - hm_true, 4)\n",
    "\n",
    "        pos_loss = -tf.math.log(tf.clip_by_value(hm_pred, 1e-4, 1)) * tf.pow(1 - hm_pred, 2) * pos_mask\n",
    "        neg_loss = -tf.math.log(tf.clip_by_value(1 - hm_pred, 1e-4, 1)) * tf.pow(hm_pred, 2) * neg_weights * neg_mask\n",
    "\n",
    "        num_pos = tf.reduce_sum(pos_mask)\n",
    "        pos_loss = tf.reduce_sum(pos_loss)\n",
    "        neg_loss = tf.reduce_sum(neg_loss)\n",
    "\n",
    "        cls_loss = tf.cond(tf.greater(num_pos, 0), lambda: (pos_loss + neg_loss) / num_pos, lambda: neg_loss)\n",
    "        return cls_loss\n",
    "    \n",
    "    def l1_loss(y_true, y_pred):\n",
    "        mask = tf.zeros_like(y_true, dtype=tf.float32)\n",
    "        mask = tf.equal(y_true, mask)\n",
    "        mask = tf.cast(mask, tf.float32)\n",
    "        mask = tf.reduce_sum(mask, axis=-1)\n",
    "        \n",
    "        one = tf.ones_like(mask)\n",
    "        zero = tf.zeros_like(mask)\n",
    "        mask = tf.where(mask == 6, x=zero, y=one)\n",
    "        mask = tf.tile(tf.expand_dims(mask, axis=-1), (1, 1, 1, 6))\n",
    "        \n",
    "        total_loss = tf.reduce_sum(tf.abs(y_true - y_pred * mask))\n",
    "        reg_loss = total_loss / (tf.reduce_sum(mask) + 1e-4)\n",
    "        return reg_loss\n",
    "    \n",
    "    # 3. compile\n",
    "    model.compile(optimizer=Adam(),\n",
    "                   loss={'car_pose.1.1':l1_loss, 'confidence.1.1':focal_loss},\n",
    "                   loss_weights=[1, 1])\n",
    "    \n",
    "    # 4. fit\n",
    "    history = model.fit_generator(train_generator(train,batch_size=batch_size),\n",
    "                                  steps_per_epoch = len(train) // batch_size,\n",
    "                                  epochs = epoch\n",
    "                                  )\n",
    "    \n",
    "    model.save_weights('centernet_weights.hdf5')\n",
    "    \n",
    "    plt.title(\"model loss\")\n",
    "    plt.ylabel(\"loss\")\n",
    "    plt.xlabel(\"epoch\")\n",
    "    plt.plot(history.history['loss'])"
   ]
  },
  {
   "cell_type": "markdown",
   "metadata": {},
   "source": [
    "# V - Predict"
   ]
  },
  {
   "cell_type": "code",
   "execution_count": 27,
   "metadata": {},
   "outputs": [],
   "source": [
    "def TestMaskImages(imageName):\n",
    "\n",
    "    trainimage = cv2.imread(PATH  + \"/test_images/\" + imageName + '.jpg')\n",
    "    imagemask = cv2.imread(PATH + \"/test_masks/\" + imageName + \".jpg\",0)\n",
    "    try:\n",
    "        imagemaskinv = cv2.bitwise_not(imagemask)\n",
    "        res = cv2.bitwise_and(trainimage,trainimage,mask = imagemaskinv)\n",
    "        res = res[res.shape[0] // 2:]\n",
    "        return res\n",
    "    except:\n",
    "        trainimage = trainimage[trainimage.shape[0] // 2:]\n",
    "        return trainimage"
   ]
  },
  {
   "cell_type": "code",
   "execution_count": 28,
   "metadata": {},
   "outputs": [],
   "source": [
    "def predict(model):\n",
    "    modelx = CtDetDecode(model)\n",
    "    \n",
    "    def pred(i):\n",
    "        img = TestMaskImages(test['ImageId'][i])\n",
    "        img = resize_image(img)\n",
    "        X_batch = img[np.newaxis, :]\n",
    "\n",
    "        detections = modelx.predict(X_batch)\n",
    "        detections = np.squeeze(detections)\n",
    "\n",
    "\n",
    "        submission = []\n",
    "        for d in detections:\n",
    "            yaw, pitch, roll, x, y, z, score = d\n",
    "            if score < 0.3:\n",
    "                continue\n",
    "            else:\n",
    "                submission.append(d)\n",
    "\n",
    "        Prediction_string = coords_to_str(submission)\n",
    "        test['PredictionString'][i] = Prediction_string\n",
    "\n",
    "    for i in tqdm(range(len(test))):\n",
    "        pred(i)\n",
    "        \n",
    "    test.to_csv('submission.csv', index=False)"
   ]
  },
  {
   "cell_type": "code",
   "execution_count": 30,
   "metadata": {},
   "outputs": [
    {
     "ename": "ValueError",
     "evalue": "Operands could not be broadcast together with shapes (33, 11, 384) (34, 12, 384)",
     "output_type": "error",
     "traceback": [
      "\u001b[0;31m---------------------------------------------------------------------------\u001b[0m",
      "\u001b[0;31mValueError\u001b[0m                                Traceback (most recent call last)",
      "\u001b[0;32m<ipython-input-30-3009ac4ebd2e>\u001b[0m in \u001b[0;36m<module>\u001b[0;34m\u001b[0m\n\u001b[1;32m     11\u001b[0m \u001b[0;34m\u001b[0m\u001b[0m\n\u001b[1;32m     12\u001b[0m \u001b[0;31m# 2. create model\u001b[0m\u001b[0;34m\u001b[0m\u001b[0;34m\u001b[0m\u001b[0;34m\u001b[0m\u001b[0m\n\u001b[0;32m---> 13\u001b[0;31m \u001b[0mmodel\u001b[0m \u001b[0;34m=\u001b[0m \u001b[0mHourglassNetwork\u001b[0m\u001b[0;34m(\u001b[0m\u001b[0mheads\u001b[0m\u001b[0;34m=\u001b[0m\u001b[0mheads\u001b[0m\u001b[0;34m,\u001b[0m \u001b[0;34m**\u001b[0m\u001b[0mkwargs\u001b[0m\u001b[0;34m)\u001b[0m\u001b[0;34m\u001b[0m\u001b[0;34m\u001b[0m\u001b[0m\n\u001b[0m\u001b[1;32m     14\u001b[0m \u001b[0;31m#model.load_weights('../input/centernet-hg/centernet_weights.hdf5', by_name=True)\u001b[0m\u001b[0;34m\u001b[0m\u001b[0;34m\u001b[0m\u001b[0;34m\u001b[0m\u001b[0m\n\u001b[1;32m     15\u001b[0m \u001b[0;34m\u001b[0m\u001b[0m\n",
      "\u001b[0;32m<ipython-input-13-18e68ebbc7b6>\u001b[0m in \u001b[0;36mHourglassNetwork\u001b[0;34m(heads, num_stacks, cnv_dim, inres, weights, dims)\u001b[0m\n\u001b[1;32m     27\u001b[0m     \u001b[0;32mfor\u001b[0m \u001b[0mi\u001b[0m \u001b[0;32min\u001b[0m \u001b[0mrange\u001b[0m\u001b[0;34m(\u001b[0m\u001b[0mnum_stacks\u001b[0m\u001b[0;34m)\u001b[0m\u001b[0;34m:\u001b[0m\u001b[0;34m\u001b[0m\u001b[0;34m\u001b[0m\u001b[0m\n\u001b[1;32m     28\u001b[0m         \u001b[0mprev_inter\u001b[0m \u001b[0;34m=\u001b[0m \u001b[0minter\u001b[0m\u001b[0;34m\u001b[0m\u001b[0;34m\u001b[0m\u001b[0m\n\u001b[0;32m---> 29\u001b[0;31m         \u001b[0m_heads\u001b[0m\u001b[0;34m,\u001b[0m \u001b[0minter\u001b[0m \u001b[0;34m=\u001b[0m \u001b[0mhourglass_module\u001b[0m\u001b[0;34m(\u001b[0m\u001b[0mheads\u001b[0m\u001b[0;34m,\u001b[0m \u001b[0minter\u001b[0m\u001b[0;34m,\u001b[0m \u001b[0mcnv_dim\u001b[0m\u001b[0;34m,\u001b[0m \u001b[0mi\u001b[0m\u001b[0;34m,\u001b[0m \u001b[0mdims\u001b[0m\u001b[0;34m)\u001b[0m\u001b[0;34m\u001b[0m\u001b[0;34m\u001b[0m\u001b[0m\n\u001b[0m\u001b[1;32m     30\u001b[0m         \u001b[0;32mif\u001b[0m \u001b[0mi\u001b[0m \u001b[0;34m==\u001b[0m \u001b[0;36m1\u001b[0m\u001b[0;34m:\u001b[0m\u001b[0;34m\u001b[0m\u001b[0;34m\u001b[0m\u001b[0m\n\u001b[1;32m     31\u001b[0m             \u001b[0moutputs\u001b[0m\u001b[0;34m.\u001b[0m\u001b[0mextend\u001b[0m\u001b[0;34m(\u001b[0m\u001b[0m_heads\u001b[0m\u001b[0;34m)\u001b[0m\u001b[0;34m\u001b[0m\u001b[0;34m\u001b[0m\u001b[0m\n",
      "\u001b[0;32m<ipython-input-14-4607bfc3ff38>\u001b[0m in \u001b[0;36mhourglass_module\u001b[0;34m(heads, bottom, cnv_dim, hgid, dims)\u001b[0m\n\u001b[1;32m      4\u001b[0m \u001b[0;34m\u001b[0m\u001b[0m\n\u001b[1;32m      5\u001b[0m     \u001b[0;31m# create right features, connect with left features\u001b[0m\u001b[0;34m\u001b[0m\u001b[0;34m\u001b[0m\u001b[0;34m\u001b[0m\u001b[0m\n\u001b[0;32m----> 6\u001b[0;31m     \u001b[0mrf1\u001b[0m \u001b[0;34m=\u001b[0m \u001b[0mright_features\u001b[0m\u001b[0;34m(\u001b[0m\u001b[0mlfs\u001b[0m\u001b[0;34m,\u001b[0m \u001b[0mhgid\u001b[0m\u001b[0;34m,\u001b[0m \u001b[0mdims\u001b[0m\u001b[0;34m)\u001b[0m\u001b[0;34m\u001b[0m\u001b[0;34m\u001b[0m\u001b[0m\n\u001b[0m\u001b[1;32m      7\u001b[0m     \u001b[0mrf1\u001b[0m \u001b[0;34m=\u001b[0m \u001b[0mconvolution\u001b[0m\u001b[0;34m(\u001b[0m\u001b[0mrf1\u001b[0m\u001b[0;34m,\u001b[0m \u001b[0;36m3\u001b[0m\u001b[0;34m,\u001b[0m \u001b[0mcnv_dim\u001b[0m\u001b[0;34m,\u001b[0m \u001b[0mname\u001b[0m\u001b[0;34m=\u001b[0m\u001b[0;34m'cnvs.%d'\u001b[0m \u001b[0;34m%\u001b[0m \u001b[0mhgid\u001b[0m\u001b[0;34m)\u001b[0m\u001b[0;34m\u001b[0m\u001b[0;34m\u001b[0m\u001b[0m\n\u001b[1;32m      8\u001b[0m \u001b[0;34m\u001b[0m\u001b[0m\n",
      "\u001b[0;32m<ipython-input-21-629c3337941b>\u001b[0m in \u001b[0;36mright_features\u001b[0;34m(leftfeatures, hgid, dims)\u001b[0m\n\u001b[1;32m      5\u001b[0m         \u001b[0;32mfor\u001b[0m \u001b[0m_\u001b[0m \u001b[0;32min\u001b[0m \u001b[0mrange\u001b[0m\u001b[0;34m(\u001b[0m\u001b[0mkk\u001b[0m\u001b[0;34m)\u001b[0m\u001b[0;34m:\u001b[0m\u001b[0;34m\u001b[0m\u001b[0;34m\u001b[0m\u001b[0m\n\u001b[1;32m      6\u001b[0m             \u001b[0mpow_str\u001b[0m \u001b[0;34m+=\u001b[0m \u001b[0;34m'center.'\u001b[0m\u001b[0;34m\u001b[0m\u001b[0;34m\u001b[0m\u001b[0m\n\u001b[0;32m----> 7\u001b[0;31m         \u001b[0mrf\u001b[0m \u001b[0;34m=\u001b[0m \u001b[0mconnect_left_right\u001b[0m\u001b[0;34m(\u001b[0m\u001b[0mleftfeatures\u001b[0m\u001b[0;34m[\u001b[0m\u001b[0mkk\u001b[0m\u001b[0;34m]\u001b[0m\u001b[0;34m,\u001b[0m \u001b[0mrf\u001b[0m\u001b[0;34m,\u001b[0m \u001b[0mdims\u001b[0m\u001b[0;34m[\u001b[0m\u001b[0mkk\u001b[0m\u001b[0;34m]\u001b[0m\u001b[0;34m,\u001b[0m \u001b[0mdims\u001b[0m\u001b[0;34m[\u001b[0m\u001b[0mmax\u001b[0m\u001b[0;34m(\u001b[0m\u001b[0mkk\u001b[0m \u001b[0;34m-\u001b[0m \u001b[0;36m1\u001b[0m\u001b[0;34m,\u001b[0m \u001b[0;36m0\u001b[0m\u001b[0;34m)\u001b[0m\u001b[0;34m]\u001b[0m\u001b[0;34m,\u001b[0m \u001b[0mname\u001b[0m\u001b[0;34m=\u001b[0m\u001b[0;34m'kps.%d.%s'\u001b[0m \u001b[0;34m%\u001b[0m \u001b[0;34m(\u001b[0m\u001b[0mhgid\u001b[0m\u001b[0;34m,\u001b[0m \u001b[0mpow_str\u001b[0m\u001b[0;34m)\u001b[0m\u001b[0;34m)\u001b[0m\u001b[0;34m\u001b[0m\u001b[0;34m\u001b[0m\u001b[0m\n\u001b[0m\u001b[1;32m      8\u001b[0m     \u001b[0;32mreturn\u001b[0m \u001b[0mrf\u001b[0m\u001b[0;34m\u001b[0m\u001b[0;34m\u001b[0m\u001b[0m\n",
      "\u001b[0;32m<ipython-input-19-4510af5a9dbe>\u001b[0m in \u001b[0;36mconnect_left_right\u001b[0;34m(left, right, num_channels, num_channels_next, name)\u001b[0m\n\u001b[1;32m      8\u001b[0m     \u001b[0mout\u001b[0m \u001b[0;34m=\u001b[0m \u001b[0mresidual\u001b[0m\u001b[0;34m(\u001b[0m\u001b[0mout\u001b[0m\u001b[0;34m,\u001b[0m \u001b[0mnum_channels_next\u001b[0m\u001b[0;34m,\u001b[0m \u001b[0mname\u001b[0m\u001b[0;34m=\u001b[0m\u001b[0mname\u001b[0m \u001b[0;34m+\u001b[0m \u001b[0;34m'out.1'\u001b[0m\u001b[0;34m)\u001b[0m\u001b[0;34m\u001b[0m\u001b[0;34m\u001b[0m\u001b[0m\n\u001b[1;32m      9\u001b[0m     \u001b[0mout\u001b[0m \u001b[0;34m=\u001b[0m \u001b[0mUpSampling2D\u001b[0m\u001b[0;34m(\u001b[0m\u001b[0mname\u001b[0m\u001b[0;34m=\u001b[0m\u001b[0mname\u001b[0m \u001b[0;34m+\u001b[0m \u001b[0;34m'out.upsampleNN'\u001b[0m\u001b[0;34m)\u001b[0m\u001b[0;34m(\u001b[0m\u001b[0mout\u001b[0m\u001b[0;34m)\u001b[0m\u001b[0;34m\u001b[0m\u001b[0;34m\u001b[0m\u001b[0m\n\u001b[0;32m---> 10\u001b[0;31m     \u001b[0mout\u001b[0m \u001b[0;34m=\u001b[0m \u001b[0mAdd\u001b[0m\u001b[0;34m(\u001b[0m\u001b[0mname\u001b[0m\u001b[0;34m=\u001b[0m\u001b[0mname\u001b[0m \u001b[0;34m+\u001b[0m \u001b[0;34m'out.add'\u001b[0m\u001b[0;34m)\u001b[0m\u001b[0;34m(\u001b[0m\u001b[0;34m[\u001b[0m\u001b[0mleft\u001b[0m\u001b[0;34m,\u001b[0m \u001b[0mout\u001b[0m\u001b[0;34m]\u001b[0m\u001b[0;34m)\u001b[0m\u001b[0;34m\u001b[0m\u001b[0;34m\u001b[0m\u001b[0m\n\u001b[0m\u001b[1;32m     11\u001b[0m     \u001b[0;32mreturn\u001b[0m \u001b[0mout\u001b[0m\u001b[0;34m\u001b[0m\u001b[0;34m\u001b[0m\u001b[0m\n",
      "\u001b[0;32m~/anaconda3/envs/badeda-tf/lib/python3.6/site-packages/keras/engine/base_layer.py\u001b[0m in \u001b[0;36m__call__\u001b[0;34m(self, inputs, **kwargs)\u001b[0m\n\u001b[1;32m    429\u001b[0m                                          \u001b[0;34m'You can build it manually via: '\u001b[0m\u001b[0;34m\u001b[0m\u001b[0;34m\u001b[0m\u001b[0m\n\u001b[1;32m    430\u001b[0m                                          '`layer.build(batch_input_shape)`')\n\u001b[0;32m--> 431\u001b[0;31m                 \u001b[0mself\u001b[0m\u001b[0;34m.\u001b[0m\u001b[0mbuild\u001b[0m\u001b[0;34m(\u001b[0m\u001b[0munpack_singleton\u001b[0m\u001b[0;34m(\u001b[0m\u001b[0minput_shapes\u001b[0m\u001b[0;34m)\u001b[0m\u001b[0;34m)\u001b[0m\u001b[0;34m\u001b[0m\u001b[0;34m\u001b[0m\u001b[0m\n\u001b[0m\u001b[1;32m    432\u001b[0m                 \u001b[0mself\u001b[0m\u001b[0;34m.\u001b[0m\u001b[0mbuilt\u001b[0m \u001b[0;34m=\u001b[0m \u001b[0;32mTrue\u001b[0m\u001b[0;34m\u001b[0m\u001b[0;34m\u001b[0m\u001b[0m\n\u001b[1;32m    433\u001b[0m \u001b[0;34m\u001b[0m\u001b[0m\n",
      "\u001b[0;32m~/anaconda3/envs/badeda-tf/lib/python3.6/site-packages/keras/layers/merge.py\u001b[0m in \u001b[0;36mbuild\u001b[0;34m(self, input_shape)\u001b[0m\n\u001b[1;32m     89\u001b[0m                 \u001b[0mshape\u001b[0m \u001b[0;34m=\u001b[0m \u001b[0minput_shape\u001b[0m\u001b[0;34m[\u001b[0m\u001b[0mi\u001b[0m\u001b[0;34m]\u001b[0m\u001b[0;34m[\u001b[0m\u001b[0;36m1\u001b[0m\u001b[0;34m:\u001b[0m\u001b[0;34m]\u001b[0m\u001b[0;34m\u001b[0m\u001b[0;34m\u001b[0m\u001b[0m\n\u001b[1;32m     90\u001b[0m             output_shape = self._compute_elemwise_op_output_shape(output_shape,\n\u001b[0;32m---> 91\u001b[0;31m                                                                   shape)\n\u001b[0m\u001b[1;32m     92\u001b[0m         \u001b[0;31m# If the inputs have different ranks, we have to reshape them\u001b[0m\u001b[0;34m\u001b[0m\u001b[0;34m\u001b[0m\u001b[0;34m\u001b[0m\u001b[0m\n\u001b[1;32m     93\u001b[0m         \u001b[0;31m# to make them broadcastable.\u001b[0m\u001b[0;34m\u001b[0m\u001b[0;34m\u001b[0m\u001b[0;34m\u001b[0m\u001b[0m\n",
      "\u001b[0;32m~/anaconda3/envs/badeda-tf/lib/python3.6/site-packages/keras/layers/merge.py\u001b[0m in \u001b[0;36m_compute_elemwise_op_output_shape\u001b[0;34m(self, shape1, shape2)\u001b[0m\n\u001b[1;32m     59\u001b[0m                     raise ValueError('Operands could not be broadcast '\n\u001b[1;32m     60\u001b[0m                                      \u001b[0;34m'together with shapes '\u001b[0m \u001b[0;34m+\u001b[0m\u001b[0;34m\u001b[0m\u001b[0;34m\u001b[0m\u001b[0m\n\u001b[0;32m---> 61\u001b[0;31m                                      str(shape1) + ' ' + str(shape2))\n\u001b[0m\u001b[1;32m     62\u001b[0m                 \u001b[0moutput_shape\u001b[0m\u001b[0;34m.\u001b[0m\u001b[0mappend\u001b[0m\u001b[0;34m(\u001b[0m\u001b[0mi\u001b[0m\u001b[0;34m)\u001b[0m\u001b[0;34m\u001b[0m\u001b[0;34m\u001b[0m\u001b[0m\n\u001b[1;32m     63\u001b[0m         \u001b[0;32mreturn\u001b[0m \u001b[0mtuple\u001b[0m\u001b[0;34m(\u001b[0m\u001b[0moutput_shape\u001b[0m\u001b[0;34m)\u001b[0m\u001b[0;34m\u001b[0m\u001b[0;34m\u001b[0m\u001b[0m\n",
      "\u001b[0;31mValueError\u001b[0m: Operands could not be broadcast together with shapes (33, 11, 384) (34, 12, 384)"
     ]
    }
   ],
   "source": [
    "# 1. set heads of HourglassNet\n",
    "kwargs = {\n",
    "        'num_stacks': 2,\n",
    "        'cnv_dim': 256,\n",
    "        'inres': (2049,683),\n",
    "        }\n",
    "heads = {\n",
    "        'car_pose': 6,\n",
    "        'confidence': 1\n",
    "        }\n",
    "\n",
    "# 2. create model\n",
    "model = HourglassNetwork(heads=heads, **kwargs)\n",
    "#model.load_weights('../input/centernet-hg/centernet_weights.hdf5', by_name=True)\n",
    "\n",
    "# 3. train\n",
    "train_model(model, epoch=16, batch_size=16)"
   ]
  },
  {
   "cell_type": "code",
   "execution_count": null,
   "metadata": {},
   "outputs": [],
   "source": [
    "# 4.predict\n",
    "predict(model)"
   ]
  },
  {
   "cell_type": "code",
   "execution_count": null,
   "metadata": {
    "_kg_hide-input": true
   },
   "outputs": [],
   "source": [
    "def str_to_coords_test(s, names=['yaw', 'pitch', 'roll', 'x', 'y', 'z', 'confidence']):\n",
    "    coords = []\n",
    "    for l in np.array(s.split()).reshape([-1, 7]):\n",
    "        coords.append(dict(zip(names, l.astype('float'))))\n",
    "    return coords\n",
    "\n",
    "def pixel_coords_test(s):\n",
    "    coords = str_to_coords_test(s)\n",
    "    xc = [c['x'] for c in coords]\n",
    "    yc = [c['y'] for c in coords]\n",
    "    zc = [c['z'] for c in coords]\n",
    "    P = np.array(list(zip(xc, yc, zc))).T\n",
    "    img_p = np.dot(camera_matrix, P).T\n",
    "    img_p[:, 0] /= img_p[:, 2]\n",
    "    img_p[:, 1] /= img_p[:, 2]\n",
    "    u = img_p[:, 0]\n",
    "    v = img_p[:, 1]\n",
    "    zc = img_p[:, 2]\n",
    "    return u, v "
   ]
  },
  {
   "cell_type": "code",
   "execution_count": null,
   "metadata": {
    "_kg_hide-input": true
   },
   "outputs": [],
   "source": [
    "def predict_example(i):\n",
    "    fig, axes = plt.subplots(1, 3,figsize=(20,20))\n",
    "    plt.subplots_adjust(top=0.5)\n",
    "\n",
    "    img0 = TestMaskImages(test['ImageId'][i])\n",
    "    img1 = resize_image(img0)\n",
    "    axes[0].set_title('Input Image')\n",
    "    axes[0].imshow(img1)\n",
    "\n",
    "    # Output Heatmap\n",
    "    X_batch = img1[np.newaxis, :]\n",
    "    detections = model.predict(X_batch)\n",
    "    axes[1].set_title('Output Heatmap')\n",
    "    axes[1].imshow(np.squeeze(detections[1]))\n",
    "\n",
    "    # Detection Result\n",
    "    u, v = pixel_coords_test(test['PredictionString'][i])\n",
    "    u = u * 128 / img0.shape[1]\n",
    "    v = (v - img0.shape[0]) * 128 / img0.shape[0]\n",
    "    print(u, v)\n",
    "    regr = pose(test['PredictionString'][i], u, v)\n",
    "    axes[2].set_title('Prediction Yaw')\n",
    "    axes[2].imshow(regr[..., 0])"
   ]
  },
  {
   "cell_type": "code",
   "execution_count": null,
   "metadata": {},
   "outputs": [],
   "source": [
    "predict_example(6)"
   ]
  },
  {
   "cell_type": "code",
   "execution_count": null,
   "metadata": {},
   "outputs": [],
   "source": []
  }
 ],
 "metadata": {
  "kernelspec": {
   "display_name": "Python [conda env:badeda-tf]",
   "language": "python",
   "name": "conda-env-badeda-tf-py"
  },
  "language_info": {
   "codemirror_mode": {
    "name": "ipython",
    "version": 3
   },
   "file_extension": ".py",
   "mimetype": "text/x-python",
   "name": "python",
   "nbconvert_exporter": "python",
   "pygments_lexer": "ipython3",
   "version": "3.6.9"
  },
  "widgets": {
   "application/vnd.jupyter.widget-state+json": {
    "state": {
     "0c17ef3b914341f28896e6f12aa52b6d": {
      "model_module": "@jupyter-widgets/base",
      "model_module_version": "1.2.0",
      "model_name": "LayoutModel",
      "state": {
       "_model_module": "@jupyter-widgets/base",
       "_model_module_version": "1.2.0",
       "_model_name": "LayoutModel",
       "_view_count": null,
       "_view_module": "@jupyter-widgets/base",
       "_view_module_version": "1.2.0",
       "_view_name": "LayoutView",
       "align_content": null,
       "align_items": null,
       "align_self": null,
       "border": null,
       "bottom": null,
       "display": null,
       "flex": null,
       "flex_flow": null,
       "grid_area": null,
       "grid_auto_columns": null,
       "grid_auto_flow": null,
       "grid_auto_rows": null,
       "grid_column": null,
       "grid_gap": null,
       "grid_row": null,
       "grid_template_areas": null,
       "grid_template_columns": null,
       "grid_template_rows": null,
       "height": null,
       "justify_content": null,
       "justify_items": null,
       "left": null,
       "margin": null,
       "max_height": null,
       "max_width": null,
       "min_height": null,
       "min_width": null,
       "object_fit": null,
       "object_position": null,
       "order": null,
       "overflow": null,
       "overflow_x": null,
       "overflow_y": null,
       "padding": null,
       "right": null,
       "top": null,
       "visibility": null,
       "width": null
      }
     },
     "4cf660201e8042e69e890a6a2b1b8f01": {
      "model_module": "@jupyter-widgets/base",
      "model_module_version": "1.2.0",
      "model_name": "LayoutModel",
      "state": {
       "_model_module": "@jupyter-widgets/base",
       "_model_module_version": "1.2.0",
       "_model_name": "LayoutModel",
       "_view_count": null,
       "_view_module": "@jupyter-widgets/base",
       "_view_module_version": "1.2.0",
       "_view_name": "LayoutView",
       "align_content": null,
       "align_items": null,
       "align_self": null,
       "border": null,
       "bottom": null,
       "display": null,
       "flex": null,
       "flex_flow": null,
       "grid_area": null,
       "grid_auto_columns": null,
       "grid_auto_flow": null,
       "grid_auto_rows": null,
       "grid_column": null,
       "grid_gap": null,
       "grid_row": null,
       "grid_template_areas": null,
       "grid_template_columns": null,
       "grid_template_rows": null,
       "height": null,
       "justify_content": null,
       "justify_items": null,
       "left": null,
       "margin": null,
       "max_height": null,
       "max_width": null,
       "min_height": null,
       "min_width": null,
       "object_fit": null,
       "object_position": null,
       "order": null,
       "overflow": null,
       "overflow_x": null,
       "overflow_y": null,
       "padding": null,
       "right": null,
       "top": null,
       "visibility": null,
       "width": null
      }
     },
     "84367ac846d5494286567d84d13c394c": {
      "model_module": "@jupyter-widgets/controls",
      "model_module_version": "1.5.0",
      "model_name": "DescriptionStyleModel",
      "state": {
       "_model_module": "@jupyter-widgets/controls",
       "_model_module_version": "1.5.0",
       "_model_name": "DescriptionStyleModel",
       "_view_count": null,
       "_view_module": "@jupyter-widgets/base",
       "_view_module_version": "1.2.0",
       "_view_name": "StyleView",
       "description_width": ""
      }
     },
     "936734faf2974f0e8389dccb55469bd8": {
      "model_module": "@jupyter-widgets/controls",
      "model_module_version": "1.5.0",
      "model_name": "HTMLModel",
      "state": {
       "_dom_classes": [],
       "_model_module": "@jupyter-widgets/controls",
       "_model_module_version": "1.5.0",
       "_model_name": "HTMLModel",
       "_view_count": null,
       "_view_module": "@jupyter-widgets/controls",
       "_view_module_version": "1.5.0",
       "_view_name": "HTMLView",
       "description": "",
       "description_tooltip": null,
       "layout": "IPY_MODEL_0c17ef3b914341f28896e6f12aa52b6d",
       "placeholder": "​",
       "style": "IPY_MODEL_84367ac846d5494286567d84d13c394c",
       "value": " 2021/2021 [09:22&lt;00:00,  3.59it/s]"
      }
     },
     "987c8ae1e67e48aaa4908024f3acc219": {
      "model_module": "@jupyter-widgets/controls",
      "model_module_version": "1.5.0",
      "model_name": "ProgressStyleModel",
      "state": {
       "_model_module": "@jupyter-widgets/controls",
       "_model_module_version": "1.5.0",
       "_model_name": "ProgressStyleModel",
       "_view_count": null,
       "_view_module": "@jupyter-widgets/base",
       "_view_module_version": "1.2.0",
       "_view_name": "StyleView",
       "bar_color": null,
       "description_width": "initial"
      }
     },
     "9bcaabbafd2640c3a8ddbbca1931df24": {
      "model_module": "@jupyter-widgets/controls",
      "model_module_version": "1.5.0",
      "model_name": "IntProgressModel",
      "state": {
       "_dom_classes": [],
       "_model_module": "@jupyter-widgets/controls",
       "_model_module_version": "1.5.0",
       "_model_name": "IntProgressModel",
       "_view_count": null,
       "_view_module": "@jupyter-widgets/controls",
       "_view_module_version": "1.5.0",
       "_view_name": "ProgressView",
       "bar_style": "success",
       "description": "100%",
       "description_tooltip": null,
       "layout": "IPY_MODEL_4cf660201e8042e69e890a6a2b1b8f01",
       "max": 2021,
       "min": 0,
       "orientation": "horizontal",
       "style": "IPY_MODEL_987c8ae1e67e48aaa4908024f3acc219",
       "value": 2021
      }
     },
     "c42e8ffdd53545449f6970f606f773f3": {
      "model_module": "@jupyter-widgets/base",
      "model_module_version": "1.2.0",
      "model_name": "LayoutModel",
      "state": {
       "_model_module": "@jupyter-widgets/base",
       "_model_module_version": "1.2.0",
       "_model_name": "LayoutModel",
       "_view_count": null,
       "_view_module": "@jupyter-widgets/base",
       "_view_module_version": "1.2.0",
       "_view_name": "LayoutView",
       "align_content": null,
       "align_items": null,
       "align_self": null,
       "border": null,
       "bottom": null,
       "display": null,
       "flex": null,
       "flex_flow": null,
       "grid_area": null,
       "grid_auto_columns": null,
       "grid_auto_flow": null,
       "grid_auto_rows": null,
       "grid_column": null,
       "grid_gap": null,
       "grid_row": null,
       "grid_template_areas": null,
       "grid_template_columns": null,
       "grid_template_rows": null,
       "height": null,
       "justify_content": null,
       "justify_items": null,
       "left": null,
       "margin": null,
       "max_height": null,
       "max_width": null,
       "min_height": null,
       "min_width": null,
       "object_fit": null,
       "object_position": null,
       "order": null,
       "overflow": null,
       "overflow_x": null,
       "overflow_y": null,
       "padding": null,
       "right": null,
       "top": null,
       "visibility": null,
       "width": null
      }
     },
     "c90acb91f80e496aa715ceb15f91e59f": {
      "model_module": "@jupyter-widgets/controls",
      "model_module_version": "1.5.0",
      "model_name": "HBoxModel",
      "state": {
       "_dom_classes": [],
       "_model_module": "@jupyter-widgets/controls",
       "_model_module_version": "1.5.0",
       "_model_name": "HBoxModel",
       "_view_count": null,
       "_view_module": "@jupyter-widgets/controls",
       "_view_module_version": "1.5.0",
       "_view_name": "HBoxView",
       "box_style": "",
       "children": [
        "IPY_MODEL_9bcaabbafd2640c3a8ddbbca1931df24",
        "IPY_MODEL_936734faf2974f0e8389dccb55469bd8"
       ],
       "layout": "IPY_MODEL_c42e8ffdd53545449f6970f606f773f3"
      }
     }
    },
    "version_major": 2,
    "version_minor": 0
   }
  }
 },
 "nbformat": 4,
 "nbformat_minor": 1
}
